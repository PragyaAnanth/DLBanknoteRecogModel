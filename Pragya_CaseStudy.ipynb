{
  "nbformat": 4,
  "nbformat_minor": 0,
  "metadata": {
    "colab": {
      "name": "Pragya_CaseStudy",
      "provenance": [],
      "collapsed_sections": [
        "iBOG4XWyZA1d"
      ],
      "authorship_tag": "ABX9TyOjH9ifTApFVNNcAUrB58H+",
      "include_colab_link": true
    },
    "kernelspec": {
      "name": "python3",
      "display_name": "Python 3"
    },
    "language_info": {
      "name": "python"
    },
    "accelerator": "GPU"
  },
  "cells": [
    {
      "cell_type": "markdown",
      "metadata": {
        "id": "view-in-github",
        "colab_type": "text"
      },
      "source": [
        "<a href=\"https://colab.research.google.com/github/PragyaAnanth/DLBanknoteRecogModel/blob/main/Pragya_CaseStudy.ipynb\" target=\"_parent\"><img src=\"https://colab.research.google.com/assets/colab-badge.svg\" alt=\"Open In Colab\"/></a>"
      ]
    },
    {
      "cell_type": "markdown",
      "metadata": {
        "id": "j9kKG5ZFrY3v"
      },
      "source": [
        "### **18CS402 - Deep Learning Lab**\n",
        "19th November 2021\n",
        "# **Case Study Final Evaluation**\n",
        "\n",
        "**Faculty:** <br>\n",
        "Ms. Aarthi R <br>\n",
        "Assistant Professor <br>\n",
        "Department of Computer Science and Engineering<br>\n",
        "Amrita School of Engineering Coimbatore <br>\n",
        "<br>\n",
        "\n",
        "**Student Details:** \n",
        "### **Pragya Ananth**\n",
        "### **CB.SC.I5DAS18027**\n",
        "Integrated M.Sc. Data Science <br>"
      ]
    },
    {
      "cell_type": "markdown",
      "metadata": {
        "id": "l7W9gS0q42fd"
      },
      "source": [
        "# *Case Study topic*: **Deep Learning in Banking and Finance**\n",
        "## *Research Paper topic*:\n",
        "### **Deep Learning Approach Combining Lightweight CNN Architecture with Transfer Learning: An Automatic Approach for the Detection and Recognition of Bangladeshi Banknotes**"
      ]
    },
    {
      "cell_type": "markdown",
      "metadata": {
        "id": "-wjvgGzdr8aB"
      },
      "source": [
        "## Mounting, Library imports, Data import"
      ]
    },
    {
      "cell_type": "code",
      "metadata": {
        "colab": {
          "base_uri": "https://localhost:8080/"
        },
        "id": "TwrqazwYr1Ss",
        "outputId": "c219ad2f-e271-409f-abaa-305bd8eff272"
      },
      "source": [
        "from google.colab import drive\n",
        "drive.mount('/content/drive')"
      ],
      "execution_count": null,
      "outputs": [
        {
          "output_type": "stream",
          "name": "stdout",
          "text": [
            "Drive already mounted at /content/drive; to attempt to forcibly remount, call drive.mount(\"/content/drive\", force_remount=True).\n"
          ]
        }
      ]
    },
    {
      "cell_type": "code",
      "metadata": {
        "id": "sTz7Nkpg4lMO"
      },
      "source": [
        "import numpy as np\n",
        "#importing the models\n",
        "from tensorflow.keras.applications import mobilenet\n",
        "#Initialising the model\n",
        "#mobilenet_model = mobilenet.MobileNet(weights='imagenet')\n",
        "\n",
        "import matplotlib.pyplot as plt\n",
        "from tensorflow.keras.preprocessing.image import load_img\n",
        "from tensorflow.keras.preprocessing.image import img_to_array\n",
        "from tensorflow.keras.applications.imagenet_utils import decode_predictions"
      ],
      "execution_count": null,
      "outputs": []
    },
    {
      "cell_type": "code",
      "metadata": {
        "id": "ADPZ_42xQZGY"
      },
      "source": [
        "from tensorflow.keras.applications.mobilenet import MobileNet\n",
        "from keras.layers import Dense,GlobalAveragePooling2D\n",
        "from keras.models import Model\n",
        "from keras.preprocessing.image import ImageDataGenerator\n",
        "from keras.applications.mobilenet import preprocess_input\n",
        "import keras\n",
        "from keras.preprocessing import image"
      ],
      "execution_count": null,
      "outputs": []
    },
    {
      "cell_type": "markdown",
      "metadata": {
        "id": "81AFzsFCLY7D"
      },
      "source": [
        "## MobileNet Modelling"
      ]
    },
    {
      "cell_type": "markdown",
      "metadata": {
        "id": "iBOG4XWyZA1d"
      },
      "source": [
        "### Architecture 1: Basic"
      ]
    },
    {
      "cell_type": "code",
      "metadata": {
        "colab": {
          "base_uri": "https://localhost:8080/"
        },
        "id": "swo5hbDSP0v4",
        "outputId": "4c1a0dc7-4db6-450a-e298-3c7be6ebc743"
      },
      "source": [
        "base_model=MobileNet(weights='imagenet',include_top=False) #imports the mobilenet model and discards the last 1000 neuron layer.\n",
        "\n",
        "x=base_model.output\n",
        "x=GlobalAveragePooling2D()(x)\n",
        "x=Dense(1024,activation='relu')(x) #we add dense layers so that the model can learn more complex functions and classify for better results.\n",
        "x=Dense(1024,activation='relu')(x) #dense layer 2\n",
        "x=Dense(512,activation='relu')(x) #dense layer 3\n",
        "preds=Dense(9,activation='softmax')(x) #final layer with softmax activation"
      ],
      "execution_count": null,
      "outputs": [
        {
          "output_type": "stream",
          "name": "stdout",
          "text": [
            "WARNING:tensorflow:`input_shape` is undefined or non-square, or `rows` is not in [128, 160, 192, 224]. Weights for input shape (224, 224) will be loaded as the default.\n"
          ]
        }
      ]
    },
    {
      "cell_type": "code",
      "metadata": {
        "id": "m6w0_ZydQSpn"
      },
      "source": [
        "model=Model(inputs=base_model.input,outputs=preds)\n",
        "#specify the inputs\n",
        "#specify the outputs\n",
        "#now a model has been created based on our architecture"
      ],
      "execution_count": null,
      "outputs": []
    },
    {
      "cell_type": "code",
      "metadata": {
        "colab": {
          "base_uri": "https://localhost:8080/"
        },
        "id": "JtUOYMYiQ3M_",
        "outputId": "99696642-84a4-423e-953c-225438847b40"
      },
      "source": [
        "for i,layer in enumerate(model.layers):\n",
        "  print(i,layer.name)"
      ],
      "execution_count": null,
      "outputs": [
        {
          "output_type": "stream",
          "name": "stdout",
          "text": [
            "0 input_2\n",
            "1 conv1\n",
            "2 conv1_bn\n",
            "3 conv1_relu\n",
            "4 conv_dw_1\n",
            "5 conv_dw_1_bn\n",
            "6 conv_dw_1_relu\n",
            "7 conv_pw_1\n",
            "8 conv_pw_1_bn\n",
            "9 conv_pw_1_relu\n",
            "10 conv_pad_2\n",
            "11 conv_dw_2\n",
            "12 conv_dw_2_bn\n",
            "13 conv_dw_2_relu\n",
            "14 conv_pw_2\n",
            "15 conv_pw_2_bn\n",
            "16 conv_pw_2_relu\n",
            "17 conv_dw_3\n",
            "18 conv_dw_3_bn\n",
            "19 conv_dw_3_relu\n",
            "20 conv_pw_3\n",
            "21 conv_pw_3_bn\n",
            "22 conv_pw_3_relu\n",
            "23 conv_pad_4\n",
            "24 conv_dw_4\n",
            "25 conv_dw_4_bn\n",
            "26 conv_dw_4_relu\n",
            "27 conv_pw_4\n",
            "28 conv_pw_4_bn\n",
            "29 conv_pw_4_relu\n",
            "30 conv_dw_5\n",
            "31 conv_dw_5_bn\n",
            "32 conv_dw_5_relu\n",
            "33 conv_pw_5\n",
            "34 conv_pw_5_bn\n",
            "35 conv_pw_5_relu\n",
            "36 conv_pad_6\n",
            "37 conv_dw_6\n",
            "38 conv_dw_6_bn\n",
            "39 conv_dw_6_relu\n",
            "40 conv_pw_6\n",
            "41 conv_pw_6_bn\n",
            "42 conv_pw_6_relu\n",
            "43 conv_dw_7\n",
            "44 conv_dw_7_bn\n",
            "45 conv_dw_7_relu\n",
            "46 conv_pw_7\n",
            "47 conv_pw_7_bn\n",
            "48 conv_pw_7_relu\n",
            "49 conv_dw_8\n",
            "50 conv_dw_8_bn\n",
            "51 conv_dw_8_relu\n",
            "52 conv_pw_8\n",
            "53 conv_pw_8_bn\n",
            "54 conv_pw_8_relu\n",
            "55 conv_dw_9\n",
            "56 conv_dw_9_bn\n",
            "57 conv_dw_9_relu\n",
            "58 conv_pw_9\n",
            "59 conv_pw_9_bn\n",
            "60 conv_pw_9_relu\n",
            "61 conv_dw_10\n",
            "62 conv_dw_10_bn\n",
            "63 conv_dw_10_relu\n",
            "64 conv_pw_10\n",
            "65 conv_pw_10_bn\n",
            "66 conv_pw_10_relu\n",
            "67 conv_dw_11\n",
            "68 conv_dw_11_bn\n",
            "69 conv_dw_11_relu\n",
            "70 conv_pw_11\n",
            "71 conv_pw_11_bn\n",
            "72 conv_pw_11_relu\n",
            "73 conv_pad_12\n",
            "74 conv_dw_12\n",
            "75 conv_dw_12_bn\n",
            "76 conv_dw_12_relu\n",
            "77 conv_pw_12\n",
            "78 conv_pw_12_bn\n",
            "79 conv_pw_12_relu\n",
            "80 conv_dw_13\n",
            "81 conv_dw_13_bn\n",
            "82 conv_dw_13_relu\n",
            "83 conv_pw_13\n",
            "84 conv_pw_13_bn\n",
            "85 conv_pw_13_relu\n",
            "86 global_average_pooling2d_1\n",
            "87 dense\n",
            "88 dense_1\n",
            "89 dense_2\n",
            "90 dense_3\n"
          ]
        }
      ]
    },
    {
      "cell_type": "code",
      "metadata": {
        "id": "0tjdFBlrRD2k"
      },
      "source": [
        "for layer in model.layers:\n",
        "    layer.trainable=False\n",
        "# or if we want to set the first 20 layers of the network to be non-trainable\n",
        "for layer in model.layers[:20]:\n",
        "    layer.trainable=False\n",
        "for layer in model.layers[20:]:\n",
        "    layer.trainable=True"
      ],
      "execution_count": null,
      "outputs": []
    },
    {
      "cell_type": "code",
      "metadata": {
        "colab": {
          "base_uri": "https://localhost:8080/"
        },
        "id": "o4CYOfV9SCFW",
        "outputId": "8d30ca4d-9581-4ff9-d10d-b396b0356875"
      },
      "source": [
        "train_datagen=ImageDataGenerator(preprocessing_function=preprocess_input) #included in our dependencies\n",
        "\n",
        "train_generator=train_datagen.flow_from_directory('/content/drive/MyDrive/18CSC402_DL_Lab/CaseStudy/Bangla Money/Training',\n",
        "                                                 target_size=(224,224),\n",
        "                                                 color_mode='rgb',\n",
        "                                                 batch_size=32,\n",
        "                                                 class_mode='categorical',\n",
        "                                                 shuffle=True)"
      ],
      "execution_count": null,
      "outputs": [
        {
          "output_type": "stream",
          "name": "stdout",
          "text": [
            "Found 1637 images belonging to 9 classes.\n"
          ]
        }
      ]
    },
    {
      "cell_type": "code",
      "metadata": {
        "colab": {
          "base_uri": "https://localhost:8080/"
        },
        "id": "U36D74EUSKEz",
        "outputId": "b7af237f-cef9-4c50-cd33-a9c1e0e3cc03"
      },
      "source": [
        "\n",
        "model.compile(optimizer='Adam',loss='categorical_crossentropy',metrics=['accuracy'])\n",
        "# Adam optimizer\n",
        "# loss function will be categorical cross entropy\n",
        "# evaluation metric will be accuracy\n",
        "\n",
        "#step_size_train=train_generator.n//train_generator.batch_size\n",
        "step_size_train=10\n",
        "model.fit_generator(generator=train_generator,\n",
        "                   steps_per_epoch=step_size_train,\n",
        "                   epochs=10)"
      ],
      "execution_count": null,
      "outputs": [
        {
          "output_type": "stream",
          "name": "stderr",
          "text": [
            "/usr/local/lib/python3.7/dist-packages/ipykernel_launcher.py:11: UserWarning: `Model.fit_generator` is deprecated and will be removed in a future version. Please use `Model.fit`, which supports generators.\n",
            "  # This is added back by InteractiveShellApp.init_path()\n"
          ]
        },
        {
          "output_type": "stream",
          "name": "stdout",
          "text": [
            "Epoch 1/10\n",
            "10/10 [==============================] - 21s 2s/step - loss: 0.2014 - accuracy: 0.9438\n",
            "Epoch 2/10\n",
            "10/10 [==============================] - 24s 2s/step - loss: 0.3836 - accuracy: 0.9249\n",
            "Epoch 3/10\n",
            "10/10 [==============================] - 20s 2s/step - loss: 0.3521 - accuracy: 0.8969\n",
            "Epoch 4/10\n",
            "10/10 [==============================] - 8s 831ms/step - loss: 0.1882 - accuracy: 0.9454\n",
            "Epoch 5/10\n",
            "10/10 [==============================] - 9s 920ms/step - loss: 0.0824 - accuracy: 0.9781\n",
            "Epoch 6/10\n",
            "10/10 [==============================] - 10s 907ms/step - loss: 0.0578 - accuracy: 0.9898\n",
            "Epoch 7/10\n",
            "10/10 [==============================] - 7s 662ms/step - loss: 0.1772 - accuracy: 0.9625\n",
            "Epoch 8/10\n",
            "10/10 [==============================] - 6s 636ms/step - loss: 0.1349 - accuracy: 0.9656\n",
            "Epoch 9/10\n",
            "10/10 [==============================] - 4s 415ms/step - loss: 0.2290 - accuracy: 0.9454\n",
            "Epoch 10/10\n",
            "10/10 [==============================] - 4s 418ms/step - loss: 0.2736 - accuracy: 0.9344\n"
          ]
        },
        {
          "output_type": "execute_result",
          "data": {
            "text/plain": [
              "<keras.callbacks.History at 0x7fcd2bcfbc10>"
            ]
          },
          "metadata": {},
          "execution_count": 13
        }
      ]
    },
    {
      "cell_type": "code",
      "metadata": {
        "id": "KRc-allpShrL"
      },
      "source": [
        ""
      ],
      "execution_count": null,
      "outputs": []
    },
    {
      "cell_type": "markdown",
      "metadata": {
        "id": "pFp04fOVZF7d"
      },
      "source": [
        "### Architecture 2: Paper's parameters"
      ]
    },
    {
      "cell_type": "code",
      "metadata": {
        "colab": {
          "base_uri": "https://localhost:8080/"
        },
        "id": "JDPj6G8IZF7e",
        "outputId": "dc5bfbb4-fe92-415d-bb73-e24ec43a74b1"
      },
      "source": [
        "base_model=MobileNet(weights='imagenet',include_top=False) #imports the mobilenet model and discards the last 1000 neuron layer.\n",
        "\n",
        "x=base_model.output\n",
        "x=GlobalAveragePooling2D()(x)\n",
        "x=Dense(1024,activation='relu')(x) \n",
        "x=Dense(512,activation='relu')(x) #dense layer 2\n",
        "x=Dense(512,activation='relu')(x) #dense layer 3\n",
        "x=Dense(256,activation='relu')(x) #dense layer 3\n",
        "x=Dense(128,activation='relu')(x) #dense layer 3\n",
        "preds=Dense(9,activation='softmax')(x) #final layer with softmax activation"
      ],
      "execution_count": null,
      "outputs": [
        {
          "output_type": "stream",
          "name": "stdout",
          "text": [
            "WARNING:tensorflow:`input_shape` is undefined or non-square, or `rows` is not in [128, 160, 192, 224]. Weights for input shape (224, 224) will be loaded as the default.\n"
          ]
        }
      ]
    },
    {
      "cell_type": "code",
      "metadata": {
        "id": "vdGpfQk1ZF7f"
      },
      "source": [
        "model=Model(inputs=base_model.input,outputs=preds)\n",
        "#specify the inputs\n",
        "#specify the outputs\n",
        "#now a model has been created based on our architecture"
      ],
      "execution_count": null,
      "outputs": []
    },
    {
      "cell_type": "code",
      "metadata": {
        "colab": {
          "base_uri": "https://localhost:8080/"
        },
        "id": "xdY1I8VnZF7f",
        "outputId": "21625179-cffb-48ab-85b9-7cd78cccf39d"
      },
      "source": [
        "for i,layer in enumerate(model.layers):\n",
        "  print(i,layer.name)"
      ],
      "execution_count": null,
      "outputs": [
        {
          "output_type": "stream",
          "name": "stdout",
          "text": [
            "0 input_3\n",
            "1 conv1\n",
            "2 conv1_bn\n",
            "3 conv1_relu\n",
            "4 conv_dw_1\n",
            "5 conv_dw_1_bn\n",
            "6 conv_dw_1_relu\n",
            "7 conv_pw_1\n",
            "8 conv_pw_1_bn\n",
            "9 conv_pw_1_relu\n",
            "10 conv_pad_2\n",
            "11 conv_dw_2\n",
            "12 conv_dw_2_bn\n",
            "13 conv_dw_2_relu\n",
            "14 conv_pw_2\n",
            "15 conv_pw_2_bn\n",
            "16 conv_pw_2_relu\n",
            "17 conv_dw_3\n",
            "18 conv_dw_3_bn\n",
            "19 conv_dw_3_relu\n",
            "20 conv_pw_3\n",
            "21 conv_pw_3_bn\n",
            "22 conv_pw_3_relu\n",
            "23 conv_pad_4\n",
            "24 conv_dw_4\n",
            "25 conv_dw_4_bn\n",
            "26 conv_dw_4_relu\n",
            "27 conv_pw_4\n",
            "28 conv_pw_4_bn\n",
            "29 conv_pw_4_relu\n",
            "30 conv_dw_5\n",
            "31 conv_dw_5_bn\n",
            "32 conv_dw_5_relu\n",
            "33 conv_pw_5\n",
            "34 conv_pw_5_bn\n",
            "35 conv_pw_5_relu\n",
            "36 conv_pad_6\n",
            "37 conv_dw_6\n",
            "38 conv_dw_6_bn\n",
            "39 conv_dw_6_relu\n",
            "40 conv_pw_6\n",
            "41 conv_pw_6_bn\n",
            "42 conv_pw_6_relu\n",
            "43 conv_dw_7\n",
            "44 conv_dw_7_bn\n",
            "45 conv_dw_7_relu\n",
            "46 conv_pw_7\n",
            "47 conv_pw_7_bn\n",
            "48 conv_pw_7_relu\n",
            "49 conv_dw_8\n",
            "50 conv_dw_8_bn\n",
            "51 conv_dw_8_relu\n",
            "52 conv_pw_8\n",
            "53 conv_pw_8_bn\n",
            "54 conv_pw_8_relu\n",
            "55 conv_dw_9\n",
            "56 conv_dw_9_bn\n",
            "57 conv_dw_9_relu\n",
            "58 conv_pw_9\n",
            "59 conv_pw_9_bn\n",
            "60 conv_pw_9_relu\n",
            "61 conv_dw_10\n",
            "62 conv_dw_10_bn\n",
            "63 conv_dw_10_relu\n",
            "64 conv_pw_10\n",
            "65 conv_pw_10_bn\n",
            "66 conv_pw_10_relu\n",
            "67 conv_dw_11\n",
            "68 conv_dw_11_bn\n",
            "69 conv_dw_11_relu\n",
            "70 conv_pw_11\n",
            "71 conv_pw_11_bn\n",
            "72 conv_pw_11_relu\n",
            "73 conv_pad_12\n",
            "74 conv_dw_12\n",
            "75 conv_dw_12_bn\n",
            "76 conv_dw_12_relu\n",
            "77 conv_pw_12\n",
            "78 conv_pw_12_bn\n",
            "79 conv_pw_12_relu\n",
            "80 conv_dw_13\n",
            "81 conv_dw_13_bn\n",
            "82 conv_dw_13_relu\n",
            "83 conv_pw_13\n",
            "84 conv_pw_13_bn\n",
            "85 conv_pw_13_relu\n",
            "86 global_average_pooling2d_2\n",
            "87 dense_4\n",
            "88 dense_5\n",
            "89 dense_6\n",
            "90 dense_7\n",
            "91 dense_8\n",
            "92 dense_9\n"
          ]
        }
      ]
    },
    {
      "cell_type": "code",
      "metadata": {
        "id": "W64IQCm0ZF7f"
      },
      "source": [
        "#for layer in model.layers:\n",
        "#    layer.trainable=False\n",
        "# or if we want to set the first 20 layers of the network to be non-trainable\n",
        "#for layer in model.layers[:20]:\n",
        "#    layer.trainable=False\n",
        "#for layer in model.layers[20:]:\n",
        "#    layer.trainable=True\n",
        "for layer in model.layers:\n",
        "    layer.trainable=True"
      ],
      "execution_count": null,
      "outputs": []
    },
    {
      "cell_type": "code",
      "metadata": {
        "colab": {
          "base_uri": "https://localhost:8080/"
        },
        "id": "-8XDHaf3ZF7g",
        "outputId": "946fcecd-2d26-492b-b095-19a18dd442c2"
      },
      "source": [
        "train_datagen=ImageDataGenerator(preprocessing_function=preprocess_input) #included in our dependencies\n",
        "\n",
        "train_generator=train_datagen.flow_from_directory('/content/drive/MyDrive/18CSC402_DL_Lab/CaseStudy/Bangla Money/Training',\n",
        "                                                 target_size=(224,224),\n",
        "                                                 color_mode='rgb',\n",
        "                                                 batch_size=32,\n",
        "                                                 class_mode='categorical',\n",
        "                                                 shuffle=True)"
      ],
      "execution_count": null,
      "outputs": [
        {
          "output_type": "stream",
          "name": "stdout",
          "text": [
            "Found 1637 images belonging to 9 classes.\n"
          ]
        }
      ]
    },
    {
      "cell_type": "code",
      "metadata": {
        "colab": {
          "base_uri": "https://localhost:8080/"
        },
        "id": "fszf6VKIZF7g",
        "outputId": "7ff154a6-de56-4dab-81f7-dd12d97c7253"
      },
      "source": [
        "\n",
        "model.compile(optimizer='Adam',loss='categorical_crossentropy',metrics=['accuracy'])\n",
        "# Adam optimizer\n",
        "# loss function will be categorical cross entropy\n",
        "# evaluation metric will be accuracy\n",
        "\n",
        "step_size_train=train_generator.n//train_generator.batch_size\n",
        "#step_size_train=10\n",
        "model.fit_generator(generator=train_generator,\n",
        "                   steps_per_epoch=step_size_train,\n",
        "                   epochs=50)"
      ],
      "execution_count": null,
      "outputs": [
        {
          "output_type": "stream",
          "name": "stderr",
          "text": [
            "/usr/local/lib/python3.7/dist-packages/ipykernel_launcher.py:11: UserWarning: `Model.fit_generator` is deprecated and will be removed in a future version. Please use `Model.fit`, which supports generators.\n",
            "  # This is added back by InteractiveShellApp.init_path()\n"
          ]
        },
        {
          "output_type": "stream",
          "name": "stdout",
          "text": [
            "Epoch 1/50\n",
            "51/51 [==============================] - 22s 352ms/step - loss: 0.4020 - accuracy: 0.8941\n",
            "Epoch 2/50\n",
            "51/51 [==============================] - 16s 313ms/step - loss: 0.2128 - accuracy: 0.9495\n",
            "Epoch 3/50\n",
            "51/51 [==============================] - 16s 314ms/step - loss: 0.1202 - accuracy: 0.9738\n",
            "Epoch 4/50\n",
            "51/51 [==============================] - 16s 314ms/step - loss: 0.1875 - accuracy: 0.9676\n",
            "Epoch 5/50\n",
            "51/51 [==============================] - 16s 312ms/step - loss: 0.1426 - accuracy: 0.9595\n",
            "Epoch 6/50\n",
            "51/51 [==============================] - 16s 313ms/step - loss: 0.1291 - accuracy: 0.9782\n",
            "Epoch 7/50\n",
            "51/51 [==============================] - 16s 315ms/step - loss: 0.0847 - accuracy: 0.9801\n",
            "Epoch 8/50\n",
            "51/51 [==============================] - 16s 313ms/step - loss: 0.1011 - accuracy: 0.9763\n",
            "Epoch 9/50\n",
            "51/51 [==============================] - 16s 312ms/step - loss: 0.0979 - accuracy: 0.9819\n",
            "Epoch 10/50\n",
            "51/51 [==============================] - 16s 313ms/step - loss: 0.0987 - accuracy: 0.9813\n",
            "Epoch 11/50\n",
            "51/51 [==============================] - 16s 315ms/step - loss: 0.0662 - accuracy: 0.9832\n",
            "Epoch 12/50\n",
            "51/51 [==============================] - 16s 315ms/step - loss: 0.0354 - accuracy: 0.9919\n",
            "Epoch 13/50\n",
            "51/51 [==============================] - 16s 314ms/step - loss: 0.0312 - accuracy: 0.9925\n",
            "Epoch 14/50\n",
            "51/51 [==============================] - 16s 314ms/step - loss: 0.0121 - accuracy: 0.9969\n",
            "Epoch 15/50\n",
            "51/51 [==============================] - 16s 313ms/step - loss: 0.1195 - accuracy: 0.9838\n",
            "Epoch 16/50\n",
            "51/51 [==============================] - 16s 315ms/step - loss: 0.0610 - accuracy: 0.9857\n",
            "Epoch 17/50\n",
            "51/51 [==============================] - 16s 313ms/step - loss: 0.0188 - accuracy: 0.9969\n",
            "Epoch 18/50\n",
            "51/51 [==============================] - 16s 315ms/step - loss: 0.1241 - accuracy: 0.9788\n",
            "Epoch 19/50\n",
            "51/51 [==============================] - 16s 315ms/step - loss: 0.1144 - accuracy: 0.9807\n",
            "Epoch 20/50\n",
            "51/51 [==============================] - 16s 315ms/step - loss: 0.1209 - accuracy: 0.9838\n",
            "Epoch 21/50\n",
            "51/51 [==============================] - 16s 313ms/step - loss: 0.2560 - accuracy: 0.9290\n",
            "Epoch 22/50\n",
            "51/51 [==============================] - 16s 313ms/step - loss: 0.1007 - accuracy: 0.9850\n",
            "Epoch 23/50\n",
            "51/51 [==============================] - 16s 315ms/step - loss: 0.1406 - accuracy: 0.9832\n",
            "Epoch 24/50\n",
            "51/51 [==============================] - 16s 312ms/step - loss: 0.0291 - accuracy: 0.9938\n",
            "Epoch 25/50\n",
            "51/51 [==============================] - 16s 313ms/step - loss: 0.0455 - accuracy: 0.9913\n",
            "Epoch 26/50\n",
            "51/51 [==============================] - 16s 314ms/step - loss: 0.1527 - accuracy: 0.9701\n",
            "Epoch 27/50\n",
            "51/51 [==============================] - 16s 313ms/step - loss: 0.0613 - accuracy: 0.9869\n",
            "Epoch 28/50\n",
            "51/51 [==============================] - 16s 313ms/step - loss: 0.0254 - accuracy: 0.9969\n",
            "Epoch 29/50\n",
            "51/51 [==============================] - 16s 316ms/step - loss: 0.1168 - accuracy: 0.9776\n",
            "Epoch 30/50\n",
            "51/51 [==============================] - 16s 313ms/step - loss: 0.0789 - accuracy: 0.9882\n",
            "Epoch 31/50\n",
            "51/51 [==============================] - 16s 313ms/step - loss: 0.0383 - accuracy: 0.9925\n",
            "Epoch 32/50\n",
            "51/51 [==============================] - 16s 313ms/step - loss: 0.0604 - accuracy: 0.9894\n",
            "Epoch 33/50\n",
            "51/51 [==============================] - 16s 314ms/step - loss: 0.0820 - accuracy: 0.9863\n",
            "Epoch 34/50\n",
            "51/51 [==============================] - 16s 315ms/step - loss: 0.0481 - accuracy: 0.9913\n",
            "Epoch 35/50\n",
            "51/51 [==============================] - 16s 314ms/step - loss: 0.0353 - accuracy: 0.9950\n",
            "Epoch 36/50\n",
            "51/51 [==============================] - 16s 313ms/step - loss: 0.0122 - accuracy: 0.9975\n",
            "Epoch 37/50\n",
            "51/51 [==============================] - 16s 317ms/step - loss: 0.0020 - accuracy: 0.9994\n",
            "Epoch 38/50\n",
            "51/51 [==============================] - 16s 314ms/step - loss: 2.9067e-04 - accuracy: 1.0000\n",
            "Epoch 39/50\n",
            "51/51 [==============================] - 16s 315ms/step - loss: 0.0011 - accuracy: 0.9994\n",
            "Epoch 40/50\n",
            "51/51 [==============================] - 16s 313ms/step - loss: 0.0304 - accuracy: 0.9969\n",
            "Epoch 41/50\n",
            "51/51 [==============================] - 16s 312ms/step - loss: 0.0233 - accuracy: 0.9969\n",
            "Epoch 42/50\n",
            "51/51 [==============================] - 16s 312ms/step - loss: 0.0242 - accuracy: 0.9969\n",
            "Epoch 43/50\n",
            "51/51 [==============================] - 16s 320ms/step - loss: 0.0283 - accuracy: 0.9975\n",
            "Epoch 44/50\n",
            "51/51 [==============================] - 16s 315ms/step - loss: 0.0083 - accuracy: 0.9981\n",
            "Epoch 45/50\n",
            "51/51 [==============================] - 16s 313ms/step - loss: 0.0011 - accuracy: 1.0000\n",
            "Epoch 46/50\n",
            "51/51 [==============================] - 16s 316ms/step - loss: 0.0042 - accuracy: 0.9994\n",
            "Epoch 47/50\n",
            "51/51 [==============================] - 16s 314ms/step - loss: 2.3647e-04 - accuracy: 1.0000\n",
            "Epoch 48/50\n",
            "51/51 [==============================] - 16s 313ms/step - loss: 3.7753e-04 - accuracy: 1.0000\n",
            "Epoch 49/50\n",
            "51/51 [==============================] - 16s 319ms/step - loss: 0.0166 - accuracy: 0.9963\n",
            "Epoch 50/50\n",
            "51/51 [==============================] - 16s 315ms/step - loss: 0.2201 - accuracy: 0.9402\n"
          ]
        },
        {
          "output_type": "execute_result",
          "data": {
            "text/plain": [
              "<keras.callbacks.History at 0x7fccb5e6b1d0>"
            ]
          },
          "metadata": {},
          "execution_count": 21
        }
      ]
    },
    {
      "cell_type": "markdown",
      "metadata": {
        "id": "1vz3W6sPkpv7"
      },
      "source": [
        "Predicting test data"
      ]
    },
    {
      "cell_type": "code",
      "metadata": {
        "id": "yyjqirjelg_E"
      },
      "source": [
        "def load_image(img_path, show=False):\n",
        "\n",
        "    img = image.load_img(img_path, target_size=(224, 224))\n",
        "    img_tensor = image.img_to_array(img)                    # (height, width, channels)\n",
        "    img_tensor = np.expand_dims(img_tensor, axis=0)         # (1, height, width, channels), add a dimension because the model expects this shape: (batch_size, height, width, channels)\n",
        "    img_tensor /= 255.                                      # imshow expects values in the range [0, 1]\n",
        "\n",
        "    if show:\n",
        "        plt.imshow(img_tensor[0])                           \n",
        "        plt.axis('off')\n",
        "        plt.show()\n",
        "\n",
        "    return img_tensor"
      ],
      "execution_count": null,
      "outputs": []
    },
    {
      "cell_type": "code",
      "metadata": {
        "colab": {
          "base_uri": "https://localhost:8080/",
          "height": 282
        },
        "id": "ATv5x_XOmKyt",
        "outputId": "736b24bf-f3ff-46b3-8168-ea7d96b67c7d"
      },
      "source": [
        "img_path = '/content/drive/MyDrive/18CSC402_DL_Lab/CaseStudy/Bangla Money/Testing/314.jpg'\n",
        "new_image = load_image(img_path,True)\n",
        "\n",
        "pred = model.predict(new_image)\n",
        "\n",
        "pred"
      ],
      "execution_count": null,
      "outputs": [
        {
          "output_type": "display_data",
          "data": {
            "image/png": "[encoded data removed]",
            "text/plain": [
              "<Figure size 432x288 with 1 Axes>"
            ]
          },
          "metadata": {
            "needs_background": "light"
          }
        },
        {
          "output_type": "execute_result",
          "data": {
            "text/plain": [
              "array([[0.08642912, 0.08806369, 0.13315281, 0.1162652 , 0.14727075,\n",
              "        0.12648919, 0.0777991 , 0.08754455, 0.13698556]], dtype=float32)"
            ]
          },
          "metadata": {},
          "execution_count": 46
        }
      ]
    },
    {
      "cell_type": "code",
      "metadata": {
        "colab": {
          "base_uri": "https://localhost:8080/"
        },
        "id": "wFnLIHUWqBiL",
        "outputId": "3c768c6e-b852-4f2a-a23d-613e9cf37847"
      },
      "source": [
        "classes = np.argmax(pred, axis = 1)\n",
        "print(classes)"
      ],
      "execution_count": null,
      "outputs": [
        {
          "output_type": "stream",
          "name": "stdout",
          "text": [
            "[4]\n"
          ]
        }
      ]
    },
    {
      "cell_type": "code",
      "metadata": {
        "id": "5sZlT5GzrWdb"
      },
      "source": [
        ""
      ],
      "execution_count": null,
      "outputs": []
    }
  ]
}